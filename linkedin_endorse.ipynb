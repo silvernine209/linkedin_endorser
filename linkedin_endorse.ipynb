{
 "cells": [
  {
   "cell_type": "code",
   "execution_count": 27,
   "metadata": {
    "ExecuteTime": {
     "end_time": "2019-09-19T00:07:00.780573Z",
     "start_time": "2019-09-19T00:07:00.769382Z"
    }
   },
   "outputs": [],
   "source": [
    "# import web driver\n",
    "from selenium import webdriver\n",
    "from selenium.webdriver.common.keys import Keys\n",
    "from selenium.webdriver.support.ui import WebDriverWait\n",
    "from selenium.webdriver.support import expected_conditions as EC\n",
    "from selenium.webdriver.common.by import By\n",
    "from selenium.common.exceptions import TimeoutException\n",
    "from selenium.webdriver.support import expected_conditions as EC\n",
    "\n",
    "\n",
    "import requests\n",
    "import time\n",
    "import random\n",
    "import re\n",
    "from seleniumrequests import Chrome\n",
    "import getpass\n",
    "import os\n",
    "import numpy as np\n",
    "\n",
    "#!pip install pyautogui\n",
    "import pyautogui\n",
    "#!conda install -c conda-forge opencv --yes\n",
    "import cv2"
   ]
  },
  {
   "cell_type": "code",
   "execution_count": 28,
   "metadata": {
    "ExecuteTime": {
     "end_time": "2019-09-19T00:07:01.673124Z",
     "start_time": "2019-09-19T00:07:01.664271Z"
    }
   },
   "outputs": [],
   "source": [
    "# imagesearch source = github : https://github.com/drov0/python-imagesearch\n",
    "def imagesearch(image, precision=0.97):\n",
    "    im = pyautogui.screenshot()\n",
    "    #im.save('testarea.png') usefull for debugging purposes, this will save the captured region as \"testarea.png\"\n",
    "    img_rgb = np.array(im)\n",
    "    img_gray = cv2.cvtColor(img_rgb, cv2.COLOR_BGR2GRAY)\n",
    "    template = cv2.imread(image, 0)\n",
    "    template.shape[::-1]\n",
    "\n",
    "    res = cv2.matchTemplate(img_gray, template, cv2.TM_CCOEFF_NORMED)\n",
    "    min_val, max_val, min_loc, max_loc = cv2.minMaxLoc(res)\n",
    "    if max_val < precision:\n",
    "        return [-1,-1]\n",
    "    return max_loc"
   ]
  },
  {
   "cell_type": "code",
   "execution_count": null,
   "metadata": {},
   "outputs": [],
   "source": [
    "# Depending on your operating system, use corresponding code. Defaulted to Mac\n",
    "\n",
    "# # For PC\n",
    "# driver = chrome()\n",
    "\n",
    "# For Mac\n",
    "git_folder_location = os.path.abspath(os.path.dirname('linkedin_endorser'))\n",
    "full_path_to_chromedriver = os.path.join(git_folder_location, \"chromedriver\")\n",
    "driver = Chrome(executable_path = full_path_to_chromedriver)"
   ]
  },
  {
   "cell_type": "code",
   "execution_count": 29,
   "metadata": {
    "ExecuteTime": {
     "end_time": "2019-09-19T00:07:26.906906Z",
     "start_time": "2019-09-19T00:07:02.566886Z"
    }
   },
   "outputs": [
    {
     "name": "stdout",
     "output_type": "stream",
     "text": [
      "LinkedIn Username: ········\n",
      "LinkedIn Password: ········\n"
     ]
    }
   ],
   "source": [
    "# driver.get method() will navigate to a page given by the URL address\n",
    "driver.get('https://www.linkedin.com/login?trk=guest_homepage-basic_nav-header-signin')\n",
    "\n",
    "# Sleep for Random Seconds Between 1 and 3\n",
    "time.sleep(random.randint(10,30)/10)\n",
    "\n",
    "# Enter ID\n",
    "username = driver.find_element_by_name(\"session_key\")\n",
    "username_input = getpass.getpass(\"LinkedIn Username: \")\n",
    "username.send_keys(username_input)\n",
    "\n",
    "# Sleep for Random Seconds Between 1 and 3\n",
    "time.sleep(random.randint(10,30)/10)\n",
    "\n",
    "# Enter Password\n",
    "password = driver.find_element_by_name(\"session_password\")\n",
    "password_input = getpass.getpass(\"LinkedIn Password: \")\n",
    "password.send_keys(password_input)\n",
    "\n",
    "# Sleep for Random Seconds Between 1 and 3\n",
    "time.sleep(random.randint(10,30)/10)\n",
    "\n",
    "# Click Submit Button\n",
    "submit = driver.find_element_by_xpath('//*[@type=\"submit\"]')\n",
    "submit.click()\n",
    "\n",
    "# Sleep for Random Seconds Between 1 and 3\n",
    "time.sleep(random.randint(10,30)/10)"
   ]
  },
  {
   "cell_type": "code",
   "execution_count": 2,
   "metadata": {
    "ExecuteTime": {
     "end_time": "2019-09-19T00:48:21.276161Z",
     "start_time": "2019-09-19T00:48:21.267905Z"
    }
   },
   "outputs": [],
   "source": [
    "# All linked ins in roster\n",
    "endorse_list = ['https://www.linkedin.com/in/daniel-gutowski/',\n",
    "'https://www.linkedin.com/in/bchen007',\n",
    "'https://www.linkedin.com/in/danielo-bennett/',\n",
    "'https://www.linkedin.com/in/erik-hafner-707932102/',\n",
    "'https://www.linkedin.com/in/evan-isenstein-54b047a3/',\n",
    "'https://www.linkedin.com/in/ferdinandwohlenberg',\n",
    "'https://www.linkedin.com/in/karen-ouyang-9958945a/',\n",
    "'https://www.linkedin.com/in/evan-isenstein-54b047a3/',\n",
    "'https://www.linkedin.com/in/livia-salgueiro-2a3aa665/',\n",
    "'https://www.linkedin.com/in/matthew-eungoo-lee/',\n",
    "'https://www.linkedin.com/in/raquelromom/',\n",
    "'https://www.linkedin.com/in/kprokrym',\n",
    "'https://www.linkedin.com/in/valentina-pena/',\n",
    "'https://www.linkedin.com/in/yong-jeon-0729/',\n",
    "'https://www.linkedin.com/in/swarna-gowri-thota/',\n",
    "'https://www.linkedin.com/in/michael-li-b781a646/',\n",
    "'https://www.linkedin.com/in/wallace-john',\n",
    "'https://www.linkedin.com/in/eva-xu-87b221100/',\n",
    "'https://www.linkedin.com/in/errol-highberg/']\n",
    "\n",
    "# Remove your linked in \n",
    "your_url = 'https://www.linkedin.com/in/matthew-eungoo-lee/'\n",
    "endorse_list.remove(your_url)\n",
    "endorse_list = list(set(endorse_list))"
   ]
  },
  {
   "cell_type": "code",
   "execution_count": 26,
   "metadata": {
    "ExecuteTime": {
     "end_time": "2019-09-19T00:04:55.925218Z",
     "start_time": "2019-09-19T00:02:43.982351Z"
    }
   },
   "outputs": [
    {
     "ename": "KeyboardInterrupt",
     "evalue": "",
     "output_type": "error",
     "traceback": [
      "\u001b[0;31m---------------------------------------------------------------------------\u001b[0m",
      "\u001b[0;31mKeyboardInterrupt\u001b[0m                         Traceback (most recent call last)",
      "\u001b[0;32m<ipython-input-26-330b29c06efd>\u001b[0m in \u001b[0;36m<module>\u001b[0;34m\u001b[0m\n\u001b[1;32m     47\u001b[0m         \u001b[0;31m# Click endorse button until it hits bottom of page\u001b[0m\u001b[0;34m\u001b[0m\u001b[0;34m\u001b[0m\u001b[0;34m\u001b[0m\u001b[0m\n\u001b[1;32m     48\u001b[0m         \u001b[0mi\u001b[0m \u001b[0;34m=\u001b[0m \u001b[0;36m0\u001b[0m\u001b[0;34m\u001b[0m\u001b[0;34m\u001b[0m\u001b[0m\n\u001b[0;32m---> 49\u001b[0;31m         \u001b[0;32mwhile\u001b[0m \u001b[0;34m(\u001b[0m\u001b[0mimagesearch\u001b[0m\u001b[0;34m(\u001b[0m\u001b[0;34m'images/page_end.png'\u001b[0m\u001b[0;34m)\u001b[0m\u001b[0;34m[\u001b[0m\u001b[0;36m0\u001b[0m\u001b[0;34m]\u001b[0m\u001b[0;34m==\u001b[0m\u001b[0;34m-\u001b[0m\u001b[0;36m1\u001b[0m\u001b[0;34m)\u001b[0m \u001b[0;32mand\u001b[0m \u001b[0;34m(\u001b[0m\u001b[0mskill_section\u001b[0m\u001b[0;34m==\u001b[0m\u001b[0;34m'yes'\u001b[0m\u001b[0;34m)\u001b[0m\u001b[0;34m:\u001b[0m\u001b[0;34m\u001b[0m\u001b[0;34m\u001b[0m\u001b[0m\n\u001b[0m\u001b[1;32m     50\u001b[0m             \u001b[0mdriver\u001b[0m\u001b[0;34m.\u001b[0m\u001b[0mexecute_script\u001b[0m\u001b[0;34m(\u001b[0m\u001b[0;34m\"window.scrollTo(0,{});\"\u001b[0m\u001b[0;34m.\u001b[0m\u001b[0mformat\u001b[0m\u001b[0;34m(\u001b[0m\u001b[0mi\u001b[0m\u001b[0;34m*\u001b[0m\u001b[0;36m400\u001b[0m\u001b[0;34m)\u001b[0m\u001b[0;34m)\u001b[0m\u001b[0;34m\u001b[0m\u001b[0;34m\u001b[0m\u001b[0m\n\u001b[1;32m     51\u001b[0m             \u001b[0mi\u001b[0m\u001b[0;34m+=\u001b[0m\u001b[0;36m1\u001b[0m\u001b[0;34m\u001b[0m\u001b[0;34m\u001b[0m\u001b[0m\n",
      "\u001b[0;32m<ipython-input-23-270f08ebec85>\u001b[0m in \u001b[0;36mimagesearch\u001b[0;34m(image, precision)\u001b[0m\n\u001b[1;32m      1\u001b[0m \u001b[0;31m# imagesearch source = github : https://github.com/drov0/python-imagesearch\u001b[0m\u001b[0;34m\u001b[0m\u001b[0;34m\u001b[0m\u001b[0;34m\u001b[0m\u001b[0m\n\u001b[1;32m      2\u001b[0m \u001b[0;32mdef\u001b[0m \u001b[0mimagesearch\u001b[0m\u001b[0;34m(\u001b[0m\u001b[0mimage\u001b[0m\u001b[0;34m,\u001b[0m \u001b[0mprecision\u001b[0m\u001b[0;34m=\u001b[0m\u001b[0;36m0.97\u001b[0m\u001b[0;34m)\u001b[0m\u001b[0;34m:\u001b[0m\u001b[0;34m\u001b[0m\u001b[0;34m\u001b[0m\u001b[0m\n\u001b[0;32m----> 3\u001b[0;31m     \u001b[0mim\u001b[0m \u001b[0;34m=\u001b[0m \u001b[0mpyautogui\u001b[0m\u001b[0;34m.\u001b[0m\u001b[0mscreenshot\u001b[0m\u001b[0;34m(\u001b[0m\u001b[0;34m)\u001b[0m\u001b[0;34m\u001b[0m\u001b[0;34m\u001b[0m\u001b[0m\n\u001b[0m\u001b[1;32m      4\u001b[0m     \u001b[0;31m#im.save('testarea.png') usefull for debugging purposes, this will save the captured region as \"testarea.png\"\u001b[0m\u001b[0;34m\u001b[0m\u001b[0;34m\u001b[0m\u001b[0;34m\u001b[0m\u001b[0m\n\u001b[1;32m      5\u001b[0m     \u001b[0mimg_rgb\u001b[0m \u001b[0;34m=\u001b[0m \u001b[0mnp\u001b[0m\u001b[0;34m.\u001b[0m\u001b[0marray\u001b[0m\u001b[0;34m(\u001b[0m\u001b[0mim\u001b[0m\u001b[0;34m)\u001b[0m\u001b[0;34m\u001b[0m\u001b[0;34m\u001b[0m\u001b[0m\n",
      "\u001b[0;32m~/anaconda3/envs/project2/lib/python3.7/site-packages/pyscreeze/__init__.py\u001b[0m in \u001b[0;36m_screenshot_osx\u001b[0;34m(imageFilename, region)\u001b[0m\n\u001b[1;32m    365\u001b[0m     \u001b[0;32melse\u001b[0m\u001b[0;34m:\u001b[0m\u001b[0;34m\u001b[0m\u001b[0;34m\u001b[0m\u001b[0m\n\u001b[1;32m    366\u001b[0m         \u001b[0mtmpFilename\u001b[0m \u001b[0;34m=\u001b[0m \u001b[0mimageFilename\u001b[0m\u001b[0;34m\u001b[0m\u001b[0;34m\u001b[0m\u001b[0m\n\u001b[0;32m--> 367\u001b[0;31m     \u001b[0msubprocess\u001b[0m\u001b[0;34m.\u001b[0m\u001b[0mcall\u001b[0m\u001b[0;34m(\u001b[0m\u001b[0;34m[\u001b[0m\u001b[0;34m'screencapture'\u001b[0m\u001b[0;34m,\u001b[0m \u001b[0;34m'-x'\u001b[0m\u001b[0;34m,\u001b[0m \u001b[0mtmpFilename\u001b[0m\u001b[0;34m]\u001b[0m\u001b[0;34m)\u001b[0m\u001b[0;34m\u001b[0m\u001b[0;34m\u001b[0m\u001b[0m\n\u001b[0m\u001b[1;32m    368\u001b[0m     \u001b[0mim\u001b[0m \u001b[0;34m=\u001b[0m \u001b[0mImage\u001b[0m\u001b[0;34m.\u001b[0m\u001b[0mopen\u001b[0m\u001b[0;34m(\u001b[0m\u001b[0mtmpFilename\u001b[0m\u001b[0;34m)\u001b[0m\u001b[0;34m\u001b[0m\u001b[0;34m\u001b[0m\u001b[0m\n\u001b[1;32m    369\u001b[0m \u001b[0;34m\u001b[0m\u001b[0m\n",
      "\u001b[0;32m~/anaconda3/envs/project2/lib/python3.7/subprocess.py\u001b[0m in \u001b[0;36mcall\u001b[0;34m(timeout, *popenargs, **kwargs)\u001b[0m\n\u001b[1;32m    323\u001b[0m     \u001b[0;32mwith\u001b[0m \u001b[0mPopen\u001b[0m\u001b[0;34m(\u001b[0m\u001b[0;34m*\u001b[0m\u001b[0mpopenargs\u001b[0m\u001b[0;34m,\u001b[0m \u001b[0;34m**\u001b[0m\u001b[0mkwargs\u001b[0m\u001b[0;34m)\u001b[0m \u001b[0;32mas\u001b[0m \u001b[0mp\u001b[0m\u001b[0;34m:\u001b[0m\u001b[0;34m\u001b[0m\u001b[0;34m\u001b[0m\u001b[0m\n\u001b[1;32m    324\u001b[0m         \u001b[0;32mtry\u001b[0m\u001b[0;34m:\u001b[0m\u001b[0;34m\u001b[0m\u001b[0;34m\u001b[0m\u001b[0m\n\u001b[0;32m--> 325\u001b[0;31m             \u001b[0;32mreturn\u001b[0m \u001b[0mp\u001b[0m\u001b[0;34m.\u001b[0m\u001b[0mwait\u001b[0m\u001b[0;34m(\u001b[0m\u001b[0mtimeout\u001b[0m\u001b[0;34m=\u001b[0m\u001b[0mtimeout\u001b[0m\u001b[0;34m)\u001b[0m\u001b[0;34m\u001b[0m\u001b[0;34m\u001b[0m\u001b[0m\n\u001b[0m\u001b[1;32m    326\u001b[0m         \u001b[0;32mexcept\u001b[0m\u001b[0;34m:\u001b[0m  \u001b[0;31m# Including KeyboardInterrupt, wait handled that.\u001b[0m\u001b[0;34m\u001b[0m\u001b[0;34m\u001b[0m\u001b[0m\n\u001b[1;32m    327\u001b[0m             \u001b[0mp\u001b[0m\u001b[0;34m.\u001b[0m\u001b[0mkill\u001b[0m\u001b[0;34m(\u001b[0m\u001b[0;34m)\u001b[0m\u001b[0;34m\u001b[0m\u001b[0;34m\u001b[0m\u001b[0m\n",
      "\u001b[0;32m~/anaconda3/envs/project2/lib/python3.7/subprocess.py\u001b[0m in \u001b[0;36mwait\u001b[0;34m(self, timeout)\u001b[0m\n\u001b[1;32m    988\u001b[0m             \u001b[0mendtime\u001b[0m \u001b[0;34m=\u001b[0m \u001b[0m_time\u001b[0m\u001b[0;34m(\u001b[0m\u001b[0;34m)\u001b[0m \u001b[0;34m+\u001b[0m \u001b[0mtimeout\u001b[0m\u001b[0;34m\u001b[0m\u001b[0;34m\u001b[0m\u001b[0m\n\u001b[1;32m    989\u001b[0m         \u001b[0;32mtry\u001b[0m\u001b[0;34m:\u001b[0m\u001b[0;34m\u001b[0m\u001b[0;34m\u001b[0m\u001b[0m\n\u001b[0;32m--> 990\u001b[0;31m             \u001b[0;32mreturn\u001b[0m \u001b[0mself\u001b[0m\u001b[0;34m.\u001b[0m\u001b[0m_wait\u001b[0m\u001b[0;34m(\u001b[0m\u001b[0mtimeout\u001b[0m\u001b[0;34m=\u001b[0m\u001b[0mtimeout\u001b[0m\u001b[0;34m)\u001b[0m\u001b[0;34m\u001b[0m\u001b[0;34m\u001b[0m\u001b[0m\n\u001b[0m\u001b[1;32m    991\u001b[0m         \u001b[0;32mexcept\u001b[0m \u001b[0mKeyboardInterrupt\u001b[0m\u001b[0;34m:\u001b[0m\u001b[0;34m\u001b[0m\u001b[0;34m\u001b[0m\u001b[0m\n\u001b[1;32m    992\u001b[0m             \u001b[0;31m# https://bugs.python.org/issue25942\u001b[0m\u001b[0;34m\u001b[0m\u001b[0;34m\u001b[0m\u001b[0;34m\u001b[0m\u001b[0m\n",
      "\u001b[0;32m~/anaconda3/envs/project2/lib/python3.7/subprocess.py\u001b[0m in \u001b[0;36m_wait\u001b[0;34m(self, timeout)\u001b[0m\n\u001b[1;32m   1622\u001b[0m                         \u001b[0;32mif\u001b[0m \u001b[0mself\u001b[0m\u001b[0;34m.\u001b[0m\u001b[0mreturncode\u001b[0m \u001b[0;32mis\u001b[0m \u001b[0;32mnot\u001b[0m \u001b[0;32mNone\u001b[0m\u001b[0;34m:\u001b[0m\u001b[0;34m\u001b[0m\u001b[0;34m\u001b[0m\u001b[0m\n\u001b[1;32m   1623\u001b[0m                             \u001b[0;32mbreak\u001b[0m  \u001b[0;31m# Another thread waited.\u001b[0m\u001b[0;34m\u001b[0m\u001b[0;34m\u001b[0m\u001b[0m\n\u001b[0;32m-> 1624\u001b[0;31m                         \u001b[0;34m(\u001b[0m\u001b[0mpid\u001b[0m\u001b[0;34m,\u001b[0m \u001b[0msts\u001b[0m\u001b[0;34m)\u001b[0m \u001b[0;34m=\u001b[0m \u001b[0mself\u001b[0m\u001b[0;34m.\u001b[0m\u001b[0m_try_wait\u001b[0m\u001b[0;34m(\u001b[0m\u001b[0;36m0\u001b[0m\u001b[0;34m)\u001b[0m\u001b[0;34m\u001b[0m\u001b[0;34m\u001b[0m\u001b[0m\n\u001b[0m\u001b[1;32m   1625\u001b[0m                         \u001b[0;31m# Check the pid and loop as waitpid has been known to\u001b[0m\u001b[0;34m\u001b[0m\u001b[0;34m\u001b[0m\u001b[0;34m\u001b[0m\u001b[0m\n\u001b[1;32m   1626\u001b[0m                         \u001b[0;31m# return 0 even without WNOHANG in odd situations.\u001b[0m\u001b[0;34m\u001b[0m\u001b[0;34m\u001b[0m\u001b[0;34m\u001b[0m\u001b[0m\n",
      "\u001b[0;32m~/anaconda3/envs/project2/lib/python3.7/subprocess.py\u001b[0m in \u001b[0;36m_try_wait\u001b[0;34m(self, wait_flags)\u001b[0m\n\u001b[1;32m   1580\u001b[0m             \u001b[0;34m\"\"\"All callers to this function MUST hold self._waitpid_lock.\"\"\"\u001b[0m\u001b[0;34m\u001b[0m\u001b[0;34m\u001b[0m\u001b[0m\n\u001b[1;32m   1581\u001b[0m             \u001b[0;32mtry\u001b[0m\u001b[0;34m:\u001b[0m\u001b[0;34m\u001b[0m\u001b[0;34m\u001b[0m\u001b[0m\n\u001b[0;32m-> 1582\u001b[0;31m                 \u001b[0;34m(\u001b[0m\u001b[0mpid\u001b[0m\u001b[0;34m,\u001b[0m \u001b[0msts\u001b[0m\u001b[0;34m)\u001b[0m \u001b[0;34m=\u001b[0m \u001b[0mos\u001b[0m\u001b[0;34m.\u001b[0m\u001b[0mwaitpid\u001b[0m\u001b[0;34m(\u001b[0m\u001b[0mself\u001b[0m\u001b[0;34m.\u001b[0m\u001b[0mpid\u001b[0m\u001b[0;34m,\u001b[0m \u001b[0mwait_flags\u001b[0m\u001b[0;34m)\u001b[0m\u001b[0;34m\u001b[0m\u001b[0;34m\u001b[0m\u001b[0m\n\u001b[0m\u001b[1;32m   1583\u001b[0m             \u001b[0;32mexcept\u001b[0m \u001b[0mChildProcessError\u001b[0m\u001b[0;34m:\u001b[0m\u001b[0;34m\u001b[0m\u001b[0;34m\u001b[0m\u001b[0m\n\u001b[1;32m   1584\u001b[0m                 \u001b[0;31m# This happens if SIGCLD is set to be ignored or waiting\u001b[0m\u001b[0;34m\u001b[0m\u001b[0;34m\u001b[0m\u001b[0;34m\u001b[0m\u001b[0m\n",
      "\u001b[0;31mKeyboardInterrupt\u001b[0m: "
     ]
    }
   ],
   "source": [
    "for person in endorse_list:\n",
    "    # Open browser\n",
    "    driver.get(person)\n",
    "    \n",
    "    # Wait until \"Highlights\" section is loaded\n",
    "    while imagesearch('images/highlights.png')[0]==-1:\n",
    "        time.sleep(1)\n",
    "    \n",
    "    # If connection is pending, go to next person\n",
    "    if imagesearch('images/pending.png')[0]!=-1:\n",
    "        print('Pending : {}'.format(person))\n",
    "        \n",
    "    # If connection is already made, request connect and go to next person\n",
    "    elif imagesearch('images/connect.png')[0]!=-1:\n",
    "        connect_location = imagesearch('images/connect.png')\n",
    "        pyautogui.mouseDown(x=connect_location[0]/2+20, y=connect_location[1]/2+20)\n",
    "        time.sleep(1)\n",
    "        pyautogui.mouseUp(x=connect_location[0]/2+20, y=connect_location[1]/2+20)\n",
    "        time.sleep(1)\n",
    "        send_now_location = imagesearch('images/sendnow.png')        \n",
    "        pyautogui.mouseDown(x=send_now_location[0]/2+20, y=send_now_location[1]/2+20)\n",
    "        time.sleep(1)\n",
    "        pyautogui.mouseUp(x=send_now_location[0]/2+20, y=send_now_location[1]/2+20)\n",
    "        print('Connection Sent : {}'.format(person))\n",
    "    # Else, endorse all skills    \n",
    "    else: \n",
    "        # Is there skill section yes or no? holder\n",
    "        skill_section = 'yes'\n",
    "\n",
    "        # Scroll down until \"Show more\" is found. 'i' starts at 3 since \"Highlights\" section has \"Show more\" as well\n",
    "        i = 3\n",
    "        while imagesearch('images/showmore.png')[0]==-1:    \n",
    "            driver.execute_script(\"window.scrollTo(0,{});\".format(i*400))\n",
    "            time.sleep(0.5)\n",
    "            i+=1\n",
    "            if i==15:\n",
    "                skill_section='no'\n",
    "                break\n",
    "\n",
    "        # Click showmore until it's expanded\n",
    "        showmore_location = imagesearch('images/showmore.png') \n",
    "        while (imagesearch('images/showmore.png')[0] !=-1) and (skill_section=='yes'):\n",
    "            pyautogui.mouseDown(x=showmore_location[0]/2+20, y=showmore_location[1]/2+20)\n",
    "            time.sleep(1)\n",
    "            pyautogui.mouseUp(x=showmore_location[0]/2+20, y=showmore_location[1]/2+20)\n",
    "\n",
    "        # Click endorse button until it hits bottom of page\n",
    "        i = 0\n",
    "        while (imagesearch('images/page_end.png')[0]==-1) and (skill_section=='yes'):    \n",
    "            driver.execute_script(\"window.scrollTo(0,{});\".format(i*400))\n",
    "            i+=1\n",
    "            if imagesearch('images/endorse1.png')[0]!=-1:\n",
    "                while imagesearch('images/endorse1.png')[0]!=-1:\n",
    "                    endorse_location = imagesearch('images/endorse1.png')   \n",
    "                    pyautogui.click(x=endorse_location[0]/2+20, y=endorse_location[1]/2+20)\n",
    "                    time.sleep(1)\n",
    "                    pyautogui.press('esc')\n",
    "                    driver.execute_script(\"window.scrollTo(0,{});\".format(i*400))\n",
    "            if imagesearch('images/endorse2.png')[0]!=-1:\n",
    "                while imagesearch('images/endorse2.png')[0]!=-1:\n",
    "                    endorse_location = imagesearch('images/endorse2.png')   \n",
    "                    pyautogui.click(x=endorse_location[0]/2+20, y=endorse_location[1]/2+20)\n",
    "                    time.sleep(1)\n",
    "                    pyautogui.press('esc')\n",
    "                    driver.execute_script(\"window.scrollTo(0,{});\".format(i*400))\n",
    "        # This guy doesn't have any skills listed. like Eric!!!\n",
    "        if skill_section=='no':\n",
    "            print(\"No Skills : {}\".format(person))"
   ]
  },
  {
   "cell_type": "code",
   "execution_count": null,
   "metadata": {},
   "outputs": [],
   "source": []
  }
 ],
 "metadata": {
  "kernelspec": {
   "display_name": "Python 3",
   "language": "python",
   "name": "python3"
  },
  "language_info": {
   "codemirror_mode": {
    "name": "ipython",
    "version": 3
   },
   "file_extension": ".py",
   "mimetype": "text/x-python",
   "name": "python",
   "nbconvert_exporter": "python",
   "pygments_lexer": "ipython3",
   "version": "3.7.3"
  },
  "toc": {
   "base_numbering": 1,
   "nav_menu": {},
   "number_sections": true,
   "sideBar": true,
   "skip_h1_title": false,
   "title_cell": "Table of Contents",
   "title_sidebar": "Contents",
   "toc_cell": false,
   "toc_position": {},
   "toc_section_display": true,
   "toc_window_display": false
  }
 },
 "nbformat": 4,
 "nbformat_minor": 2
}
