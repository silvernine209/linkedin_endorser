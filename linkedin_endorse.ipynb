{
 "cells": [
  {
   "cell_type": "code",
   "execution_count": 1,
   "metadata": {
    "ExecuteTime": {
     "end_time": "2019-09-18T23:38:31.039206Z",
     "start_time": "2019-09-18T23:38:30.003039Z"
    }
   },
   "outputs": [],
   "source": [
    "# import web driver\n",
    "from selenium import webdriver\n",
    "from selenium.webdriver.common.keys import Keys\n",
    "from selenium.webdriver.support.ui import WebDriverWait\n",
    "from selenium.webdriver.support import expected_conditions as EC\n",
    "from selenium.webdriver.common.by import By\n",
    "from selenium.common.exceptions import TimeoutException\n",
    "from selenium.webdriver.support import expected_conditions as EC\n",
    "\n",
    "\n",
    "import requests\n",
    "import time\n",
    "import random\n",
    "import re\n",
    "from seleniumrequests import Chrome\n",
    "import getpass\n",
    "import os\n",
    "import numpy as np\n",
    "\n",
    "#!pip install pyautogui\n",
    "import pyautogui\n",
    "#!conda install -c conda-forge opencv --yes\n",
    "import cv2"
   ]
  },
  {
   "cell_type": "code",
   "execution_count": 2,
   "metadata": {
    "ExecuteTime": {
     "end_time": "2019-09-18T23:38:31.168123Z",
     "start_time": "2019-09-18T23:38:31.160430Z"
    }
   },
   "outputs": [],
   "source": [
    "# imagesearch source = github : https://github.com/drov0/python-imagesearch\n",
    "def imagesearch(image, precision=0.97):\n",
    "    im = pyautogui.screenshot()\n",
    "    #im.save('testarea.png') usefull for debugging purposes, this will save the captured region as \"testarea.png\"\n",
    "    img_rgb = np.array(im)\n",
    "    img_gray = cv2.cvtColor(img_rgb, cv2.COLOR_BGR2GRAY)\n",
    "    template = cv2.imread(image, 0)\n",
    "    template.shape[::-1]\n",
    "\n",
    "    res = cv2.matchTemplate(img_gray, template, cv2.TM_CCOEFF_NORMED)\n",
    "    min_val, max_val, min_loc, max_loc = cv2.minMaxLoc(res)\n",
    "    if max_val < precision:\n",
    "        return [-1,-1]\n",
    "    return max_loc"
   ]
  },
  {
   "cell_type": "code",
   "execution_count": 10,
   "metadata": {
    "ExecuteTime": {
     "end_time": "2019-09-18T23:51:21.045358Z",
     "start_time": "2019-09-18T23:51:08.703968Z"
    },
    "collapsed": true
   },
   "outputs": [
    {
     "ename": "KeyboardInterrupt",
     "evalue": "",
     "output_type": "error",
     "traceback": [
      "\u001b[0;31m---------------------------------------------------------------------------\u001b[0m",
      "\u001b[0;31mKeyboardInterrupt\u001b[0m                         Traceback (most recent call last)",
      "\u001b[0;32m~/anaconda3/envs/project2/lib/python3.7/site-packages/ipykernel/kernelbase.py\u001b[0m in \u001b[0;36m_input_request\u001b[0;34m(self, prompt, ident, parent, password)\u001b[0m\n\u001b[1;32m    884\u001b[0m             \u001b[0;32mtry\u001b[0m\u001b[0;34m:\u001b[0m\u001b[0;34m\u001b[0m\u001b[0;34m\u001b[0m\u001b[0m\n\u001b[0;32m--> 885\u001b[0;31m                 \u001b[0mident\u001b[0m\u001b[0;34m,\u001b[0m \u001b[0mreply\u001b[0m \u001b[0;34m=\u001b[0m \u001b[0mself\u001b[0m\u001b[0;34m.\u001b[0m\u001b[0msession\u001b[0m\u001b[0;34m.\u001b[0m\u001b[0mrecv\u001b[0m\u001b[0;34m(\u001b[0m\u001b[0mself\u001b[0m\u001b[0;34m.\u001b[0m\u001b[0mstdin_socket\u001b[0m\u001b[0;34m,\u001b[0m \u001b[0;36m0\u001b[0m\u001b[0;34m)\u001b[0m\u001b[0;34m\u001b[0m\u001b[0;34m\u001b[0m\u001b[0m\n\u001b[0m\u001b[1;32m    886\u001b[0m             \u001b[0;32mexcept\u001b[0m \u001b[0mException\u001b[0m\u001b[0;34m:\u001b[0m\u001b[0;34m\u001b[0m\u001b[0;34m\u001b[0m\u001b[0m\n",
      "\u001b[0;32m~/anaconda3/envs/project2/lib/python3.7/site-packages/jupyter_client/session.py\u001b[0m in \u001b[0;36mrecv\u001b[0;34m(self, socket, mode, content, copy)\u001b[0m\n\u001b[1;32m    802\u001b[0m         \u001b[0;32mtry\u001b[0m\u001b[0;34m:\u001b[0m\u001b[0;34m\u001b[0m\u001b[0;34m\u001b[0m\u001b[0m\n\u001b[0;32m--> 803\u001b[0;31m             \u001b[0mmsg_list\u001b[0m \u001b[0;34m=\u001b[0m \u001b[0msocket\u001b[0m\u001b[0;34m.\u001b[0m\u001b[0mrecv_multipart\u001b[0m\u001b[0;34m(\u001b[0m\u001b[0mmode\u001b[0m\u001b[0;34m,\u001b[0m \u001b[0mcopy\u001b[0m\u001b[0;34m=\u001b[0m\u001b[0mcopy\u001b[0m\u001b[0;34m)\u001b[0m\u001b[0;34m\u001b[0m\u001b[0;34m\u001b[0m\u001b[0m\n\u001b[0m\u001b[1;32m    804\u001b[0m         \u001b[0;32mexcept\u001b[0m \u001b[0mzmq\u001b[0m\u001b[0;34m.\u001b[0m\u001b[0mZMQError\u001b[0m \u001b[0;32mas\u001b[0m \u001b[0me\u001b[0m\u001b[0;34m:\u001b[0m\u001b[0;34m\u001b[0m\u001b[0;34m\u001b[0m\u001b[0m\n",
      "\u001b[0;32m~/anaconda3/envs/project2/lib/python3.7/site-packages/zmq/sugar/socket.py\u001b[0m in \u001b[0;36mrecv_multipart\u001b[0;34m(self, flags, copy, track)\u001b[0m\n\u001b[1;32m    469\u001b[0m         \"\"\"\n\u001b[0;32m--> 470\u001b[0;31m         \u001b[0mparts\u001b[0m \u001b[0;34m=\u001b[0m \u001b[0;34m[\u001b[0m\u001b[0mself\u001b[0m\u001b[0;34m.\u001b[0m\u001b[0mrecv\u001b[0m\u001b[0;34m(\u001b[0m\u001b[0mflags\u001b[0m\u001b[0;34m,\u001b[0m \u001b[0mcopy\u001b[0m\u001b[0;34m=\u001b[0m\u001b[0mcopy\u001b[0m\u001b[0;34m,\u001b[0m \u001b[0mtrack\u001b[0m\u001b[0;34m=\u001b[0m\u001b[0mtrack\u001b[0m\u001b[0;34m)\u001b[0m\u001b[0;34m]\u001b[0m\u001b[0;34m\u001b[0m\u001b[0;34m\u001b[0m\u001b[0m\n\u001b[0m\u001b[1;32m    471\u001b[0m         \u001b[0;31m# have first part already, only loop while more to receive\u001b[0m\u001b[0;34m\u001b[0m\u001b[0;34m\u001b[0m\u001b[0;34m\u001b[0m\u001b[0m\n",
      "\u001b[0;32mzmq/backend/cython/socket.pyx\u001b[0m in \u001b[0;36mzmq.backend.cython.socket.Socket.recv\u001b[0;34m()\u001b[0m\n",
      "\u001b[0;32mzmq/backend/cython/socket.pyx\u001b[0m in \u001b[0;36mzmq.backend.cython.socket.Socket.recv\u001b[0;34m()\u001b[0m\n",
      "\u001b[0;32mzmq/backend/cython/socket.pyx\u001b[0m in \u001b[0;36mzmq.backend.cython.socket._recv_copy\u001b[0;34m()\u001b[0m\n",
      "\u001b[0;32m~/anaconda3/envs/project2/lib/python3.7/site-packages/zmq/backend/cython/checkrc.pxd\u001b[0m in \u001b[0;36mzmq.backend.cython.checkrc._check_rc\u001b[0;34m()\u001b[0m\n",
      "\u001b[0;31mKeyboardInterrupt\u001b[0m: ",
      "\nDuring handling of the above exception, another exception occurred:\n",
      "\u001b[0;31mKeyboardInterrupt\u001b[0m                         Traceback (most recent call last)",
      "\u001b[0;32m<ipython-input-10-9c02f5987157>\u001b[0m in \u001b[0;36m<module>\u001b[0;34m\u001b[0m\n\u001b[1;32m     12\u001b[0m \u001b[0;31m# Enter ID\u001b[0m\u001b[0;34m\u001b[0m\u001b[0;34m\u001b[0m\u001b[0;34m\u001b[0m\u001b[0m\n\u001b[1;32m     13\u001b[0m \u001b[0musername\u001b[0m \u001b[0;34m=\u001b[0m \u001b[0mdriver\u001b[0m\u001b[0;34m.\u001b[0m\u001b[0mfind_element_by_name\u001b[0m\u001b[0;34m(\u001b[0m\u001b[0;34m\"session_key\"\u001b[0m\u001b[0;34m)\u001b[0m\u001b[0;34m\u001b[0m\u001b[0;34m\u001b[0m\u001b[0m\n\u001b[0;32m---> 14\u001b[0;31m \u001b[0musername_input\u001b[0m \u001b[0;34m=\u001b[0m \u001b[0mgetpass\u001b[0m\u001b[0;34m.\u001b[0m\u001b[0mgetpass\u001b[0m\u001b[0;34m(\u001b[0m\u001b[0;34m\"LinkedIn Username: \"\u001b[0m\u001b[0;34m)\u001b[0m\u001b[0;34m\u001b[0m\u001b[0;34m\u001b[0m\u001b[0m\n\u001b[0m\u001b[1;32m     15\u001b[0m \u001b[0musername\u001b[0m\u001b[0;34m.\u001b[0m\u001b[0msend_keys\u001b[0m\u001b[0;34m(\u001b[0m\u001b[0musername_input\u001b[0m\u001b[0;34m)\u001b[0m\u001b[0;34m\u001b[0m\u001b[0;34m\u001b[0m\u001b[0m\n\u001b[1;32m     16\u001b[0m \u001b[0;34m\u001b[0m\u001b[0m\n",
      "\u001b[0;32m~/anaconda3/envs/project2/lib/python3.7/site-packages/ipykernel/kernelbase.py\u001b[0m in \u001b[0;36mgetpass\u001b[0;34m(self, prompt, stream)\u001b[0m\n\u001b[1;32m    841\u001b[0m             \u001b[0mself\u001b[0m\u001b[0;34m.\u001b[0m\u001b[0m_parent_ident\u001b[0m\u001b[0;34m,\u001b[0m\u001b[0;34m\u001b[0m\u001b[0;34m\u001b[0m\u001b[0m\n\u001b[1;32m    842\u001b[0m             \u001b[0mself\u001b[0m\u001b[0;34m.\u001b[0m\u001b[0m_parent_header\u001b[0m\u001b[0;34m,\u001b[0m\u001b[0;34m\u001b[0m\u001b[0;34m\u001b[0m\u001b[0m\n\u001b[0;32m--> 843\u001b[0;31m             \u001b[0mpassword\u001b[0m\u001b[0;34m=\u001b[0m\u001b[0;32mTrue\u001b[0m\u001b[0;34m,\u001b[0m\u001b[0;34m\u001b[0m\u001b[0;34m\u001b[0m\u001b[0m\n\u001b[0m\u001b[1;32m    844\u001b[0m         )\n\u001b[1;32m    845\u001b[0m \u001b[0;34m\u001b[0m\u001b[0m\n",
      "\u001b[0;32m~/anaconda3/envs/project2/lib/python3.7/site-packages/ipykernel/kernelbase.py\u001b[0m in \u001b[0;36m_input_request\u001b[0;34m(self, prompt, ident, parent, password)\u001b[0m\n\u001b[1;32m    888\u001b[0m             \u001b[0;32mexcept\u001b[0m \u001b[0mKeyboardInterrupt\u001b[0m\u001b[0;34m:\u001b[0m\u001b[0;34m\u001b[0m\u001b[0;34m\u001b[0m\u001b[0m\n\u001b[1;32m    889\u001b[0m                 \u001b[0;31m# re-raise KeyboardInterrupt, to truncate traceback\u001b[0m\u001b[0;34m\u001b[0m\u001b[0;34m\u001b[0m\u001b[0;34m\u001b[0m\u001b[0m\n\u001b[0;32m--> 890\u001b[0;31m                 \u001b[0;32mraise\u001b[0m \u001b[0mKeyboardInterrupt\u001b[0m\u001b[0;34m\u001b[0m\u001b[0;34m\u001b[0m\u001b[0m\n\u001b[0m\u001b[1;32m    891\u001b[0m             \u001b[0;32melse\u001b[0m\u001b[0;34m:\u001b[0m\u001b[0;34m\u001b[0m\u001b[0;34m\u001b[0m\u001b[0m\n\u001b[1;32m    892\u001b[0m                 \u001b[0;32mbreak\u001b[0m\u001b[0;34m\u001b[0m\u001b[0;34m\u001b[0m\u001b[0m\n",
      "\u001b[0;31mKeyboardInterrupt\u001b[0m: "
     ]
    }
   ],
   "source": [
    "# For Mac\n",
    "git_folder_location = os.path.abspath(os.path.dirname('linkedin_endorser'))\n",
    "full_path_to_chromedriver = os.path.join(git_folder_location, \"chromedriver\")\n",
    "driver = Chrome(executable_path = full_path_to_chromedriver)\n",
    "\n",
    "# driver.get method() will navigate to a page given by the URL address\n",
    "driver.get('https://www.linkedin.com/login?trk=guest_homepage-basic_nav-header-signin')\n",
    "\n",
    "# Sleep for Random Seconds Between 1 and 3\n",
    "time.sleep(random.randint(10,30)/10)\n",
    "\n",
    "# Enter ID\n",
    "username = driver.find_element_by_name(\"session_key\")\n",
    "username_input = getpass.getpass(\"LinkedIn Username: \")\n",
    "username.send_keys(username_input)\n",
    "\n",
    "# Sleep for Random Seconds Between 1 and 3\n",
    "time.sleep(random.randint(10,30)/10)\n",
    "\n",
    "# Enter Password\n",
    "password = driver.find_element_by_name(\"session_password\")\n",
    "password_input = getpass.getpass(\"LinkedIn Password: \")\n",
    "password.send_keys(password_input)\n",
    "\n",
    "# Sleep for Random Seconds Between 1 and 3\n",
    "time.sleep(random.randint(10,30)/10)\n",
    "\n",
    "# Click Submit Button\n",
    "submit = driver.find_element_by_xpath('//*[@type=\"submit\"]')\n",
    "submit.click()\n",
    "\n",
    "# Sleep for Random Seconds Between 1 and 3\n",
    "time.sleep(random.randint(10,30)/10)"
   ]
  },
  {
   "cell_type": "code",
   "execution_count": 8,
   "metadata": {
    "ExecuteTime": {
     "end_time": "2019-09-18T23:50:24.278317Z",
     "start_time": "2019-09-18T23:50:24.266687Z"
    }
   },
   "outputs": [],
   "source": [
    "# All linked ins in roster\n",
    "endorse_list = ['https://www.linkedin.com/in/daniel-gutowski/',\n",
    "'https://www.linkedin.com/in/bchen007',\n",
    "'https://www.linkedin.com/in/danielo-bennett/',\n",
    "'https://www.linkedin.com/in/erik-hafner-707932102/',\n",
    "'https://www.linkedin.com/in/evan-isenstein-54b047a3/',\n",
    "'https://www.linkedin.com/in/ferdinandwohlenberg',\n",
    "'https://www.linkedin.com/in/karen-ouyang-9958945a/',\n",
    "'https://www.linkedin.com/in/evan-isenstein-54b047a3/',\n",
    "'https://www.linkedin.com/in/livia-salgueiro-2a3aa665/',\n",
    "'https://www.linkedin.com/in/matthew-eungoo-lee/',\n",
    "'https://www.linkedin.com/in/raquelromom/',\n",
    "'https://www.linkedin.com/in/kprokrym',\n",
    "'https://www.linkedin.com/in/valentina-pena/',\n",
    "'https://www.linkedin.com/in/yong-jeon-0729/',\n",
    "'https://www.linkedin.com/in/swarna-gowri-thota/',\n",
    "'https://www.linkedin.com/in/michael-li-b781a646/',\n",
    "'https://www.linkedin.com/in/wallace-john',\n",
    "'https://www.linkedin.com/in/eva-xu-87b221100/']\n",
    "\n",
    "# Remove your linked in \n",
    "your_url = 'https://www.linkedin.com/in/matthew-eungoo-lee/'\n",
    "endorse_list.remove(your_url)\n",
    "endorse_list = list(set(endorse_list))"
   ]
  },
  {
   "cell_type": "code",
   "execution_count": 9,
   "metadata": {
    "ExecuteTime": {
     "end_time": "2019-09-18T23:51:03.913962Z",
     "start_time": "2019-09-18T23:50:26.062954Z"
    }
   },
   "outputs": [
    {
     "ename": "KeyboardInterrupt",
     "evalue": "",
     "output_type": "error",
     "traceback": [
      "\u001b[0;31m---------------------------------------------------------------------------\u001b[0m",
      "\u001b[0;31mKeyboardInterrupt\u001b[0m                         Traceback (most recent call last)",
      "\u001b[0;32m<ipython-input-9-77d52bda69f8>\u001b[0m in \u001b[0;36m<module>\u001b[0;34m\u001b[0m\n\u001b[1;32m      5\u001b[0m     \u001b[0;31m# Wait until \"Highlights\" section is loaded\u001b[0m\u001b[0;34m\u001b[0m\u001b[0;34m\u001b[0m\u001b[0;34m\u001b[0m\u001b[0m\n\u001b[1;32m      6\u001b[0m     \u001b[0;32mwhile\u001b[0m \u001b[0mimagesearch\u001b[0m\u001b[0;34m(\u001b[0m\u001b[0;34m'images/highlights.png'\u001b[0m\u001b[0;34m)\u001b[0m\u001b[0;34m[\u001b[0m\u001b[0;36m0\u001b[0m\u001b[0;34m]\u001b[0m\u001b[0;34m!=\u001b[0m\u001b[0;34m-\u001b[0m\u001b[0;36m1\u001b[0m\u001b[0;34m:\u001b[0m\u001b[0;34m\u001b[0m\u001b[0;34m\u001b[0m\u001b[0m\n\u001b[0;32m----> 7\u001b[0;31m         \u001b[0mtime\u001b[0m\u001b[0;34m.\u001b[0m\u001b[0msleep\u001b[0m\u001b[0;34m(\u001b[0m\u001b[0;36m1\u001b[0m\u001b[0;34m)\u001b[0m\u001b[0;34m\u001b[0m\u001b[0;34m\u001b[0m\u001b[0m\n\u001b[0m\u001b[1;32m      8\u001b[0m \u001b[0;34m\u001b[0m\u001b[0m\n\u001b[1;32m      9\u001b[0m     \u001b[0;31m# If connection is pending, go to next person\u001b[0m\u001b[0;34m\u001b[0m\u001b[0;34m\u001b[0m\u001b[0;34m\u001b[0m\u001b[0m\n",
      "\u001b[0;31mKeyboardInterrupt\u001b[0m: "
     ]
    }
   ],
   "source": [
    "for person in endorse_list:\n",
    "    # Open browser\n",
    "    driver.get(person)\n",
    "    \n",
    "    # Wait until \"Highlights\" section is loaded\n",
    "    while imagesearch('images/highlights.png')[0]==-1:\n",
    "        time.sleep(1)\n",
    "    \n",
    "    # If connection is pending, go to next person\n",
    "    if imagesearch('images/pending.png')[0]!=-1:\n",
    "        print('Pending : {}'.format(person))\n",
    "        \n",
    "    # If connection is already made, request connect and go to next person\n",
    "    elif imagesearch('connect.png')[0]!=-1:\n",
    "        connect_location = imagesearch('images/connect.png')\n",
    "        pyautogui.mouseDown(x=connect_location[0]/2+20, y=connect_location[1]/2+20)\n",
    "        time.sleep(1)\n",
    "        pyautogui.mouseUp(x=connect_location[0]/2+20, y=connect_location[1]/2+20)\n",
    "        time.sleep(1)\n",
    "        send_now_location = imagesearch('images/sendnow.png')        \n",
    "        pyautogui.mouseDown(x=send_now_location[0]/2+20, y=send_now_location[1]/2+20)\n",
    "        time.sleep(1)\n",
    "        pyautogui.mouseUp(x=send_now_location[0]/2+20, y=send_now_location[1]/2+20)\n",
    "        print('Connection Sent : {}'.format(person))\n",
    "    # Else, endorse all skills    \n",
    "    else: \n",
    "        # Is there skill section yes or no? holder\n",
    "        skill_section = 'yes'\n",
    "\n",
    "        # Scroll down until \"Show more\" is found\n",
    "        i = 0\n",
    "        while imagesearch('images/showmore.png')[0]==-1:    \n",
    "            driver.execute_script(\"window.scrollTo(0,{});\".format(i*400))\n",
    "            time.sleep(0.5)\n",
    "            i+=1\n",
    "            if i==15:\n",
    "                skill_section='no'\n",
    "                break\n",
    "\n",
    "        # Click showmore until it's expanded\n",
    "        showmore_location = imagesearch('images/showmore.png') \n",
    "        while (imagesearch('images/showmore.png')[0] !=-1) and (skill_section=='yes'):\n",
    "            pyautogui.mouseDown(x=showmore_location[0]/2+20, y=showmore_location[1]/2+20)\n",
    "            time.sleep(1)\n",
    "            pyautogui.mouseUp(x=showmore_location[0]/2+20, y=showmore_location[1]/2+20)\n",
    "\n",
    "        # Click endorse button until it hits bottom of page\n",
    "        i = 0\n",
    "        while (imagesearch('images/page_end.png')[0]==-1) and (skill_section=='yes'):    \n",
    "            driver.execute_script(\"window.scrollTo(0,{});\".format(i*400))\n",
    "            i+=1\n",
    "            if imagesearch('images/endorse1.png')[0]!=-1:\n",
    "                while imagesearch('images/endorse1.png')[0]!=-1:\n",
    "                    endorse_location = imagesearch('images/endorse1.png')   \n",
    "                    pyautogui.click(x=endorse_location[0]/2+20, y=endorse_location[1]/2+20)\n",
    "                    time.sleep(1)\n",
    "                    pyautogui.press('esc')\n",
    "                    driver.execute_script(\"window.scrollTo(0,{});\".format(i*400))\n",
    "            if imagesearch('images/endorse2.png')[0]!=-1:\n",
    "                while imagesearch('images/endorse2.png')[0]!=-1:\n",
    "                    endorse_location = imagesearch('images/endorse2.png')   \n",
    "                    pyautogui.click(x=endorse_location[0]/2+20, y=endorse_location[1]/2+20)\n",
    "                    time.sleep(1)\n",
    "                    pyautogui.press('esc')\n",
    "                    driver.execute_script(\"window.scrollTo(0,{});\".format(i*400))\n",
    "        # This guy doesn't have any skills listed. like Eric!!!\n",
    "        if skill_section=='no':\n",
    "            print(\"No Skills : {}\".format(person))"
   ]
  },
  {
   "cell_type": "code",
   "execution_count": null,
   "metadata": {},
   "outputs": [],
   "source": []
  }
 ],
 "metadata": {
  "kernelspec": {
   "display_name": "Python 3",
   "language": "python",
   "name": "python3"
  },
  "language_info": {
   "codemirror_mode": {
    "name": "ipython",
    "version": 3
   },
   "file_extension": ".py",
   "mimetype": "text/x-python",
   "name": "python",
   "nbconvert_exporter": "python",
   "pygments_lexer": "ipython3",
   "version": "3.7.3"
  },
  "toc": {
   "base_numbering": 1,
   "nav_menu": {},
   "number_sections": true,
   "sideBar": true,
   "skip_h1_title": false,
   "title_cell": "Table of Contents",
   "title_sidebar": "Contents",
   "toc_cell": false,
   "toc_position": {},
   "toc_section_display": true,
   "toc_window_display": false
  }
 },
 "nbformat": 4,
 "nbformat_minor": 2
}
